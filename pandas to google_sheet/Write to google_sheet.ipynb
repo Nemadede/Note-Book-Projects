{
 "cells": [
  {
   "cell_type": "code",
   "execution_count": 29,
   "id": "b9778305-5611-468d-8b7c-8315d9678574",
   "metadata": {},
   "outputs": [],
   "source": [
    "import pandas as pd\n",
    "import gspread\n",
    "from df2gspread import df2gspread as d2g\n",
    "from google.oauth2.service_account import Credentials\n",
    "from oauth2client.service_account import ServiceAccountCredentials"
   ]
  },
  {
   "cell_type": "markdown",
   "id": "3c13d483-9b1d-4433-91aa-a700c84bd653",
   "metadata": {},
   "source": [
    "\n",
    "### writing mock_data gotten from [This website](https://www.mockaroo.com/)"
   ]
  },
  {
   "cell_type": "code",
   "execution_count": 3,
   "id": "c530ca27-7c00-4492-a347-d0bf2568ce2b",
   "metadata": {},
   "outputs": [
    {
     "data": {
      "text/html": [
       "<div>\n",
       "<style scoped>\n",
       "    .dataframe tbody tr th:only-of-type {\n",
       "        vertical-align: middle;\n",
       "    }\n",
       "\n",
       "    .dataframe tbody tr th {\n",
       "        vertical-align: top;\n",
       "    }\n",
       "\n",
       "    .dataframe thead th {\n",
       "        text-align: right;\n",
       "    }\n",
       "</style>\n",
       "<table border=\"1\" class=\"dataframe\">\n",
       "  <thead>\n",
       "    <tr style=\"text-align: right;\">\n",
       "      <th></th>\n",
       "      <th>id</th>\n",
       "      <th>first_name</th>\n",
       "      <th>last_name</th>\n",
       "      <th>email</th>\n",
       "      <th>gender</th>\n",
       "      <th>phone</th>\n",
       "    </tr>\n",
       "  </thead>\n",
       "  <tbody>\n",
       "    <tr>\n",
       "      <th>0</th>\n",
       "      <td>1</td>\n",
       "      <td>Crichton</td>\n",
       "      <td>Tew</td>\n",
       "      <td>ctew0@istockphoto.com</td>\n",
       "      <td>Male</td>\n",
       "      <td>76.7.224.179</td>\n",
       "    </tr>\n",
       "    <tr>\n",
       "      <th>1</th>\n",
       "      <td>2</td>\n",
       "      <td>Sutherland</td>\n",
       "      <td>Soff</td>\n",
       "      <td>ssoff1@hubpages.com</td>\n",
       "      <td>Polygender</td>\n",
       "      <td>205.68.200.149</td>\n",
       "    </tr>\n",
       "    <tr>\n",
       "      <th>2</th>\n",
       "      <td>3</td>\n",
       "      <td>Bernardine</td>\n",
       "      <td>Stoade</td>\n",
       "      <td>bstoade2@google.ca</td>\n",
       "      <td>Female</td>\n",
       "      <td>225.144.101.186</td>\n",
       "    </tr>\n",
       "    <tr>\n",
       "      <th>3</th>\n",
       "      <td>4</td>\n",
       "      <td>Margie</td>\n",
       "      <td>Robens</td>\n",
       "      <td>mrobens3@4shared.com</td>\n",
       "      <td>Female</td>\n",
       "      <td>149.178.68.90</td>\n",
       "    </tr>\n",
       "    <tr>\n",
       "      <th>4</th>\n",
       "      <td>5</td>\n",
       "      <td>Johanna</td>\n",
       "      <td>Fielden</td>\n",
       "      <td>jfielden4@amazon.co.jp</td>\n",
       "      <td>Female</td>\n",
       "      <td>21.139.75.205</td>\n",
       "    </tr>\n",
       "  </tbody>\n",
       "</table>\n",
       "</div>"
      ],
      "text/plain": [
       "   id  first_name last_name                   email      gender  \\\n",
       "0   1    Crichton       Tew   ctew0@istockphoto.com        Male   \n",
       "1   2  Sutherland      Soff     ssoff1@hubpages.com  Polygender   \n",
       "2   3  Bernardine    Stoade      bstoade2@google.ca      Female   \n",
       "3   4      Margie    Robens    mrobens3@4shared.com      Female   \n",
       "4   5     Johanna   Fielden  jfielden4@amazon.co.jp      Female   \n",
       "\n",
       "             phone  \n",
       "0     76.7.224.179  \n",
       "1   205.68.200.149  \n",
       "2  225.144.101.186  \n",
       "3    149.178.68.90  \n",
       "4    21.139.75.205  "
      ]
     },
     "execution_count": 3,
     "metadata": {},
     "output_type": "execute_result"
    }
   ],
   "source": [
    "df = pd.read_csv('./data/MOCK_DATA.csv')\n",
    "df.head()"
   ]
  },
  {
   "cell_type": "code",
   "execution_count": 23,
   "id": "e018a4ea-2276-43a4-a198-8c9a0d4eb3a6",
   "metadata": {},
   "outputs": [
    {
     "data": {
      "text/plain": [
       "'/home/nema-love/Documents/Projects/Ejara/notebooks'"
      ]
     },
     "execution_count": 23,
     "metadata": {},
     "output_type": "execute_result"
    }
   ],
   "source": [
    "import os\n",
    "os.getcwd()"
   ]
  },
  {
   "cell_type": "markdown",
   "id": "bbf63715-ae85-4b17-94a1-da180ebb8649",
   "metadata": {},
   "source": [
    "### generate service account credentials on google console. follow [this link](https://docs.gspread.org/en/latest/oauth2.html#service-account)"
   ]
  },
  {
   "cell_type": "code",
   "execution_count": 30,
   "id": "9e161ad7-e3fd-4666-a5bf-46fcc7c616bd",
   "metadata": {},
   "outputs": [],
   "source": [
    "# scope = ['https://spreadsheets.google.com/feeds',\n",
    "#          'https://www.googleapis.com/auth/drive']\n",
    "credentials = ServiceAccountCredentials.from_json_keyfile_name(\n",
    "    '/home/nema-love/.config/gspread/spheric-radio-380510-377f804f8931.json', scopes=[])\n",
    "gc = gspread.authorize(credentials)"
   ]
  },
  {
   "cell_type": "code",
   "execution_count": 32,
   "id": "9d5871aa-c1b4-4473-9841-77f56f3feef2",
   "metadata": {},
   "outputs": [
    {
     "data": {
      "text/plain": [
       "<Worksheet 'sheet 2' id:740667449>"
      ]
     },
     "execution_count": 32,
     "metadata": {},
     "output_type": "execute_result"
    }
   ],
   "source": [
    "# id name from the url of google sheet\n",
    "spreadsheet_key = '1K8JRefAOrxEIbM3vT_A43ckdqzEtcosxlyj8VGop6HY'\n",
    "\n",
    "# sheet name on the google sheet if it contains multiple sheets\n",
    "sheet_name = 'sheet 2'\n",
    "\n",
    "# upload data to google sheet\n",
    "d2g.upload(df, spreadsheet_key, sheet_name, credentials=credentials, row_names=True)"
   ]
  }
 ],
 "metadata": {
  "kernelspec": {
   "display_name": "Python 3 (ipykernel)",
   "language": "python",
   "name": "python3"
  },
  "language_info": {
   "codemirror_mode": {
    "name": "ipython",
    "version": 3
   },
   "file_extension": ".py",
   "mimetype": "text/x-python",
   "name": "python",
   "nbconvert_exporter": "python",
   "pygments_lexer": "ipython3",
   "version": "3.9.12"
  }
 },
 "nbformat": 4,
 "nbformat_minor": 5
}
